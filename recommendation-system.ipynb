{
 "cells": [
  {
   "cell_type": "code",
   "execution_count": 2,
   "id": "7c12a232-4edc-4ae3-89c1-21673081fd96",
   "metadata": {},
   "outputs": [],
   "source": [
    "#importing the dependencies\n",
    "import numpy as np\n",
    "import pandas as pd\n",
    "import matplotlib.pyplot as plt\n",
    "import seaborn as sns"
   ]
  },
  {
   "cell_type": "code",
   "execution_count": 3,
   "id": "cde799d8-823f-42f5-8d52-337429e9df2a",
   "metadata": {},
   "outputs": [
    {
     "name": "stdout",
     "output_type": "stream",
     "text": [
      "Dataset URL: https://www.kaggle.com/datasets/grouplens/movielens-20m-dataset"
     ]
    },
    {
     "name": "stderr",
     "output_type": "stream",
     "text": [
      "\n",
      "  0%|          | 0.00/195M [00:00<?, ?B/s]\n",
      "  1%|          | 1.00M/195M [00:00<02:29, 1.36MB/s]\n",
      "  1%|1         | 2.00M/195M [00:00<01:25, 2.36MB/s]\n",
      "  2%|1         | 3.00M/195M [00:01<01:16, 2.65MB/s]\n",
      "  2%|2         | 4.00M/195M [00:01<01:17, 2.60MB/s]\n",
      "  3%|2         | 5.00M/195M [00:02<01:07, 2.94MB/s]\n",
      "  3%|3         | 6.00M/195M [00:02<01:09, 2.88MB/s]\n",
      "  4%|3         | 7.00M/195M [00:02<01:09, 2.84MB/s]\n",
      "  4%|4         | 8.00M/195M [00:03<01:09, 2.81MB/s]\n",
      "  5%|4         | 9.00M/195M [00:03<01:09, 2.79MB/s]\n",
      "  5%|5         | 10.0M/195M [00:03<01:02, 3.12MB/s]\n",
      "  6%|5         | 11.0M/195M [00:04<01:07, 2.86MB/s]\n",
      "  6%|6         | 12.0M/195M [00:04<01:07, 2.83MB/s]\n",
      "  7%|6         | 13.0M/195M [00:04<01:06, 2.86MB/s]\n",
      "  7%|7         | 14.0M/195M [00:05<01:07, 2.82MB/s]\n",
      "  8%|7         | 15.0M/195M [00:05<01:10, 2.69MB/s]\n",
      "  8%|8         | 16.0M/195M [00:06<01:09, 2.69MB/s]\n",
      "  9%|8         | 17.0M/195M [00:06<01:16, 2.44MB/s]\n",
      "  9%|9         | 18.0M/195M [00:07<01:10, 2.63MB/s]\n",
      " 10%|9         | 19.0M/195M [00:07<01:11, 2.60MB/s]\n",
      " 10%|#         | 20.0M/195M [00:07<01:15, 2.45MB/s]\n",
      " 11%|#         | 21.0M/195M [00:08<01:27, 2.08MB/s]\n",
      " 11%|#1        | 22.0M/195M [00:09<01:38, 1.84MB/s]\n",
      " 12%|#1        | 23.0M/195M [00:09<01:35, 1.90MB/s]\n",
      " 12%|#2        | 24.0M/195M [00:10<01:26, 2.09MB/s]\n",
      " 13%|#2        | 25.0M/195M [00:10<01:36, 1.86MB/s]\n",
      " 13%|#3        | 26.0M/195M [00:11<01:46, 1.66MB/s]\n",
      " 14%|#3        | 27.0M/195M [00:12<01:46, 1.67MB/s]\n",
      " 14%|#4        | 28.0M/195M [00:12<01:42, 1.72MB/s]\n",
      " 15%|#4        | 29.0M/195M [00:13<01:46, 1.64MB/s]\n",
      " 15%|#5        | 30.0M/195M [00:14<01:54, 1.51MB/s]\n",
      " 16%|#5        | 31.0M/195M [00:15<01:58, 1.45MB/s]\n",
      " 16%|#6        | 32.0M/195M [00:16<02:02, 1.40MB/s]\n",
      " 17%|#6        | 33.0M/195M [00:16<01:58, 1.44MB/s]\n",
      " 17%|#7        | 34.0M/195M [00:16<01:35, 1.77MB/s]\n",
      " 18%|#7        | 35.0M/195M [00:17<01:19, 2.11MB/s]\n",
      " 18%|#8        | 36.0M/195M [00:17<01:14, 2.23MB/s]\n",
      " 19%|#8        | 37.0M/195M [00:17<00:59, 2.79MB/s]\n",
      " 19%|#9        | 38.0M/195M [00:18<00:54, 3.05MB/s]\n",
      " 20%|#9        | 39.0M/195M [00:18<00:50, 3.25MB/s]\n",
      " 20%|##        | 40.0M/195M [00:18<00:47, 3.40MB/s]\n",
      " 21%|##        | 41.0M/195M [00:18<00:46, 3.49MB/s]\n",
      " 21%|##1       | 42.0M/195M [00:19<00:44, 3.60MB/s]\n",
      " 22%|##1       | 43.0M/195M [00:19<00:48, 3.27MB/s]\n",
      " 23%|##2       | 44.0M/195M [00:19<00:41, 3.86MB/s]\n",
      " 23%|##3       | 45.0M/195M [00:20<00:40, 3.86MB/s]\n",
      " 24%|##3       | 46.0M/195M [00:20<00:40, 3.86MB/s]\n",
      " 24%|##4       | 47.0M/195M [00:20<00:40, 3.85MB/s]\n",
      " 25%|##4       | 48.0M/195M [00:20<00:40, 3.84MB/s]\n",
      " 25%|##5       | 49.0M/195M [00:21<00:45, 3.38MB/s]\n",
      " 26%|##5       | 50.0M/195M [00:21<00:42, 3.56MB/s]\n",
      " 26%|##6       | 51.0M/195M [00:21<00:40, 3.72MB/s]\n",
      " 27%|##6       | 52.0M/195M [00:22<00:42, 3.51MB/s]\n",
      " 27%|##7       | 53.0M/195M [00:22<00:37, 3.97MB/s]\n",
      " 28%|##7       | 54.0M/195M [00:22<00:37, 4.00MB/s]\n",
      " 28%|##8       | 55.0M/195M [00:22<00:36, 4.02MB/s]\n",
      " 29%|##8       | 56.0M/195M [00:23<00:36, 4.01MB/s]\n",
      " 29%|##9       | 57.0M/195M [00:23<00:36, 3.96MB/s]\n",
      " 30%|##9       | 58.0M/195M [00:23<00:36, 3.93MB/s]\n",
      " 30%|###       | 59.0M/195M [00:23<00:36, 3.90MB/s]\n",
      " 31%|###       | 60.0M/195M [00:24<00:36, 3.88MB/s]\n",
      " 31%|###1      | 61.0M/195M [00:24<00:39, 3.59MB/s]\n",
      " 32%|###1      | 62.0M/195M [00:24<00:40, 3.44MB/s]\n",
      " 32%|###2      | 63.0M/195M [00:25<00:36, 3.77MB/s]\n",
      " 33%|###2      | 64.0M/195M [00:25<00:33, 4.14MB/s]\n",
      " 33%|###3      | 65.0M/195M [00:25<00:33, 4.05MB/s]\n",
      " 34%|###3      | 66.0M/195M [00:25<00:34, 3.98MB/s]\n",
      " 34%|###4      | 67.0M/195M [00:26<00:34, 3.94MB/s]\n",
      " 35%|###4      | 68.0M/195M [00:26<00:36, 3.65MB/s]\n",
      " 35%|###5      | 69.0M/195M [00:26<00:33, 3.96MB/s]\n",
      " 36%|###5      | 70.0M/195M [00:26<00:33, 3.93MB/s]\n",
      " 36%|###6      | 71.0M/195M [00:27<00:38, 3.43MB/s]\n",
      " 37%|###6      | 72.0M/195M [00:27<00:35, 3.60MB/s]\n",
      " 37%|###7      | 73.0M/195M [00:27<00:34, 3.73MB/s]\n",
      " 38%|###7      | 74.0M/195M [00:28<00:33, 3.82MB/s]\n",
      " 38%|###8      | 75.0M/195M [00:28<00:32, 3.90MB/s]\n",
      " 39%|###8      | 76.0M/195M [00:28<00:31, 3.95MB/s]\n",
      " 39%|###9      | 77.0M/195M [00:28<00:34, 3.62MB/s]\n",
      " 40%|###9      | 78.0M/195M [00:29<00:29, 4.11MB/s]\n",
      " 40%|####      | 79.0M/195M [00:29<00:30, 4.02MB/s]\n",
      " 41%|####      | 80.0M/195M [00:29<00:30, 3.98MB/s]\n",
      " 41%|####1     | 81.0M/195M [00:29<00:30, 3.92MB/s]\n",
      " 42%|####1     | 82.0M/195M [00:30<00:33, 3.54MB/s]\n",
      " 42%|####2     | 83.0M/195M [00:30<00:29, 4.02MB/s]\n",
      " 43%|####2     | 84.0M/195M [00:30<00:33, 3.53MB/s]\n",
      " 43%|####3     | 85.0M/195M [00:30<00:28, 4.07MB/s]\n",
      " 44%|####3     | 86.0M/195M [00:31<00:28, 4.01MB/s]\n",
      " 45%|####4     | 87.0M/195M [00:31<00:32, 3.46MB/s]\n",
      " 45%|####5     | 88.0M/195M [00:31<00:27, 4.09MB/s]\n",
      " 46%|####5     | 89.0M/195M [00:32<00:35, 3.13MB/s]\n",
      " 46%|####6     | 90.0M/195M [00:32<00:35, 3.08MB/s]\n",
      " 47%|####6     | 91.0M/195M [00:32<00:33, 3.31MB/s]\n",
      " 47%|####7     | 92.0M/195M [00:33<00:31, 3.50MB/s]\n",
      " 48%|####7     | 93.0M/195M [00:33<00:29, 3.66MB/s]\n",
      " 48%|####8     | 94.0M/195M [00:33<00:28, 3.78MB/s]\n",
      " 49%|####8     | 95.0M/195M [00:33<00:27, 3.85MB/s]\n",
      " 49%|####9     | 96.0M/195M [00:34<00:26, 3.92MB/s]\n",
      " 50%|####9     | 97.0M/195M [00:34<00:26, 3.91MB/s]\n",
      " 50%|#####     | 98.0M/195M [00:34<00:26, 3.89MB/s]\n",
      " 51%|#####     | 99.0M/195M [00:35<00:26, 3.86MB/s]\n",
      " 51%|#####1    | 100M/195M [00:35<00:27, 3.58MB/s] \n",
      " 52%|#####1    | 101M/195M [00:35<00:28, 3.48MB/s]\n",
      " 52%|#####2    | 102M/195M [00:35<00:26, 3.73MB/s]\n",
      " 53%|#####2    | 103M/195M [00:36<00:26, 3.65MB/s]\n",
      " 53%|#####3    | 104M/195M [00:36<00:22, 4.21MB/s]\n",
      " 54%|#####3    | 105M/195M [00:36<00:23, 4.10MB/s]\n",
      " 54%|#####4    | 106M/195M [00:36<00:23, 4.01MB/s]\n",
      " 55%|#####4    | 107M/195M [00:37<00:23, 3.97MB/s]\n",
      " 55%|#####5    | 108M/195M [00:37<00:23, 3.93MB/s]\n",
      " 56%|#####5    | 109M/195M [00:37<00:26, 3.41MB/s]\n",
      " 56%|#####6    | 110M/195M [00:38<00:25, 3.56MB/s]\n",
      " 57%|#####6    | 111M/195M [00:38<00:24, 3.68MB/s]\n",
      " 57%|#####7    | 112M/195M [00:38<00:23, 3.74MB/s]\n",
      " 58%|#####7    | 113M/195M [00:38<00:22, 3.84MB/s]\n",
      " 58%|#####8    | 114M/195M [00:39<00:21, 3.88MB/s]\n",
      " 59%|#####8    | 115M/195M [00:39<00:21, 3.91MB/s]\n",
      " 59%|#####9    | 116M/195M [00:39<00:23, 3.56MB/s]\n",
      " 60%|#####9    | 117M/195M [00:39<00:19, 4.17MB/s]\n",
      " 60%|######    | 118M/195M [00:40<00:22, 3.65MB/s]\n",
      " 61%|######    | 119M/195M [00:40<00:19, 4.13MB/s]\n",
      " 61%|######1   | 120M/195M [00:40<00:19, 4.05MB/s]\n",
      " 62%|######1   | 121M/195M [00:41<00:21, 3.59MB/s]\n",
      " 62%|######2   | 122M/195M [00:41<00:21, 3.58MB/s]\n",
      " 63%|######2   | 123M/195M [00:41<00:18, 4.18MB/s]\n",
      " 63%|######3   | 124M/195M [00:41<00:18, 4.06MB/s]\n",
      " 64%|######3   | 125M/195M [00:42<00:18, 4.00MB/s]\n",
      " 64%|######4   | 126M/195M [00:42<00:19, 3.67MB/s]\n",
      " 65%|######4   | 127M/195M [00:42<00:17, 4.01MB/s]\n",
      " 65%|######5   | 128M/195M [00:42<00:17, 3.97MB/s]\n",
      " 66%|######5   | 129M/195M [00:43<00:17, 3.94MB/s]\n",
      " 67%|######6   | 130M/195M [00:43<00:17, 3.91MB/s]\n",
      " 67%|######7   | 131M/195M [00:43<00:19, 3.41MB/s]\n",
      " 68%|######7   | 132M/195M [00:44<00:17, 3.88MB/s]\n",
      " 68%|######8   | 133M/195M [00:44<00:16, 4.02MB/s]\n",
      " 69%|######8   | 134M/195M [00:44<00:19, 3.34MB/s]\n",
      " 69%|######9   | 135M/195M [00:45<00:18, 3.51MB/s]\n",
      " 70%|######9   | 136M/195M [00:45<00:16, 3.67MB/s]\n",
      " 70%|#######   | 137M/195M [00:45<00:16, 3.77MB/s]\n",
      " 71%|#######   | 138M/195M [00:45<00:15, 3.83MB/s]\n",
      " 71%|#######1  | 139M/195M [00:46<00:15, 3.87MB/s]\n",
      " 72%|#######1  | 140M/195M [00:46<00:15, 3.86MB/s]\n",
      " 72%|#######2  | 141M/195M [00:46<00:15, 3.78MB/s]\n",
      " 73%|#######2  | 142M/195M [00:46<00:14, 3.85MB/s]\n",
      " 73%|#######3  | 143M/195M [00:47<00:14, 3.87MB/s]\n",
      " 74%|#######3  | 144M/195M [00:47<00:13, 3.86MB/s]\n",
      " 74%|#######4  | 145M/195M [00:47<00:13, 3.85MB/s]\n",
      " 75%|#######4  | 146M/195M [00:47<00:13, 3.78MB/s]\n",
      " 75%|#######5  | 147M/195M [00:48<00:13, 3.87MB/s]\n",
      " 76%|#######5  | 148M/195M [00:48<00:14, 3.50MB/s]\n",
      " 76%|#######6  | 149M/195M [00:48<00:12, 3.98MB/s]\n",
      " 77%|#######6  | 150M/195M [00:49<00:12, 3.95MB/s]\n",
      " 77%|#######7  | 151M/195M [00:49<00:12, 3.74MB/s]\n",
      " 78%|#######7  | 152M/195M [00:49<00:11, 3.93MB/s]\n",
      " 78%|#######8  | 153M/195M [00:49<00:11, 3.91MB/s]\n",
      " 79%|#######8  | 154M/195M [00:50<00:11, 3.89MB/s]\n",
      " 79%|#######9  | 155M/195M [00:50<00:12, 3.39MB/s]\n",
      " 80%|#######9  | 156M/195M [00:50<00:11, 3.55MB/s]\n",
      " 80%|########  | 157M/195M [00:51<00:11, 3.66MB/s]\n",
      " 81%|########  | 158M/195M [00:51<00:11, 3.56MB/s]\n",
      " 81%|########1 | 159M/195M [00:51<00:10, 3.51MB/s]\n",
      " 82%|########1 | 160M/195M [00:52<00:11, 3.37MB/s]\n",
      " 82%|########2 | 161M/195M [00:52<00:10, 3.52MB/s]\n",
      " 83%|########2 | 162M/195M [00:52<00:10, 3.42MB/s]\n",
      " 83%|########3 | 163M/195M [00:52<00:10, 3.36MB/s]\n",
      " 84%|########3 | 164M/195M [00:53<00:09, 3.32MB/s]\n",
      " 84%|########4 | 165M/195M [00:53<00:08, 3.63MB/s]\n",
      " 85%|########4 | 166M/195M [00:53<00:07, 3.89MB/s]\n",
      " 85%|########5 | 167M/195M [00:54<00:08, 3.44MB/s]\n",
      " 86%|########5 | 168M/195M [00:54<00:07, 4.02MB/s]\n",
      " 86%|########6 | 169M/195M [00:54<00:06, 3.97MB/s]\n",
      " 87%|########6 | 170M/195M [00:54<00:06, 3.93MB/s]\n",
      " 87%|########7 | 171M/195M [00:55<00:06, 3.90MB/s]\n",
      " 88%|########7 | 172M/195M [00:55<00:06, 3.89MB/s]\n",
      " 89%|########8 | 173M/195M [00:55<00:06, 3.88MB/s]\n",
      " 89%|########9 | 174M/195M [00:55<00:05, 3.86MB/s]\n",
      " 90%|########9 | 175M/195M [00:56<00:06, 3.49MB/s]\n",
      " 90%|######### | 176M/195M [00:56<00:05, 3.99MB/s]\n",
      " 91%|######### | 177M/195M [00:56<00:04, 3.94MB/s]\n",
      " 91%|#########1| 178M/195M [00:57<00:04, 3.86MB/s]\n",
      " 92%|#########1| 179M/195M [00:57<00:04, 3.62MB/s]\n",
      " 92%|#########2| 180M/195M [00:57<00:04, 3.97MB/s]\n",
      " 93%|#########2| 181M/195M [00:57<00:03, 3.95MB/s]\n",
      " 93%|#########3| 182M/195M [00:58<00:04, 3.41MB/s]\n",
      " 94%|#########3| 183M/195M [00:58<00:03, 3.58MB/s]\n",
      " 94%|#########4| 184M/195M [00:58<00:03, 3.31MB/s]\n",
      " 95%|#########4| 185M/195M [00:59<00:02, 3.94MB/s]\n",
      " 95%|#########5| 186M/195M [00:59<00:02, 3.96MB/s]\n",
      " 96%|#########5| 187M/195M [00:59<00:02, 3.98MB/s]\n",
      " 96%|#########6| 188M/195M [00:59<00:01, 3.99MB/s]\n",
      " 97%|#########6| 189M/195M [01:00<00:01, 4.00MB/s]\n",
      " 97%|#########7| 190M/195M [01:00<00:01, 4.01MB/s]\n",
      " 98%|#########7| 191M/195M [01:00<00:01, 3.95MB/s]\n",
      " 98%|#########8| 192M/195M [01:00<00:00, 3.88MB/s]\n",
      " 99%|#########8| 193M/195M [01:01<00:00, 3.92MB/s]\n",
      " 99%|#########9| 194M/195M [01:01<00:00, 3.90MB/s]\n",
      "100%|#########9| 195M/195M [01:01<00:00, 3.88MB/s]\n",
      "100%|##########| 195M/195M [01:01<00:00, 3.72MB/s]\n",
      "100%|##########| 195M/195M [01:01<00:00, 3.31MB/s]\n"
     ]
    },
    {
     "name": "stdout",
     "output_type": "stream",
     "text": [
      "\n",
      "License(s): unknown\n",
      "Downloading movielens-20m-dataset.zip to C:\\Users\\jinag\\OneDrive\\Desktop\\Datascience_projects\\Recommendation-system\n",
      "\n"
     ]
    }
   ],
   "source": [
    "#upload the dataset\n",
    "!kaggle datasets download -d grouplens/movielens-20m-dataset"
   ]
  },
  {
   "cell_type": "code",
   "execution_count": 6,
   "id": "d11afa62-99f3-41b8-986d-4933b4f1361c",
   "metadata": {},
   "outputs": [
    {
     "name": "stdout",
     "output_type": "stream",
     "text": [
      "Data Extracted\n"
     ]
    }
   ],
   "source": [
    "#extracting the compressed dataset\n",
    "from zipfile import ZipFile\n",
    "dataset='movielens-20m-dataset.zip'\n",
    "\n",
    "with ZipFile(dataset,'r') as zip:\n",
    "    zip.extractall()\n",
    "    print('Data Extracted')"
   ]
  },
  {
   "cell_type": "code",
   "execution_count": 5,
   "id": "a13825dd-c09d-44f0-830e-fea6b945c87c",
   "metadata": {},
   "outputs": [],
   "source": [
    "df1movie=pd.read_csv('movie.csv')\n",
    "df2rat=pd.read_csv('rating.csv')"
   ]
  },
  {
   "cell_type": "code",
   "execution_count": 6,
   "id": "a93def18-95cf-44e9-9479-8d5abed50f06",
   "metadata": {},
   "outputs": [
    {
     "data": {
      "text/html": [
       "<div>\n",
       "<style scoped>\n",
       "    .dataframe tbody tr th:only-of-type {\n",
       "        vertical-align: middle;\n",
       "    }\n",
       "\n",
       "    .dataframe tbody tr th {\n",
       "        vertical-align: top;\n",
       "    }\n",
       "\n",
       "    .dataframe thead th {\n",
       "        text-align: right;\n",
       "    }\n",
       "</style>\n",
       "<table border=\"1\" class=\"dataframe\">\n",
       "  <thead>\n",
       "    <tr style=\"text-align: right;\">\n",
       "      <th></th>\n",
       "      <th>movieId</th>\n",
       "      <th>title</th>\n",
       "      <th>genres</th>\n",
       "    </tr>\n",
       "  </thead>\n",
       "  <tbody>\n",
       "    <tr>\n",
       "      <th>0</th>\n",
       "      <td>1</td>\n",
       "      <td>Toy Story (1995)</td>\n",
       "      <td>Adventure|Animation|Children|Comedy|Fantasy</td>\n",
       "    </tr>\n",
       "    <tr>\n",
       "      <th>1</th>\n",
       "      <td>2</td>\n",
       "      <td>Jumanji (1995)</td>\n",
       "      <td>Adventure|Children|Fantasy</td>\n",
       "    </tr>\n",
       "    <tr>\n",
       "      <th>2</th>\n",
       "      <td>3</td>\n",
       "      <td>Grumpier Old Men (1995)</td>\n",
       "      <td>Comedy|Romance</td>\n",
       "    </tr>\n",
       "    <tr>\n",
       "      <th>3</th>\n",
       "      <td>4</td>\n",
       "      <td>Waiting to Exhale (1995)</td>\n",
       "      <td>Comedy|Drama|Romance</td>\n",
       "    </tr>\n",
       "    <tr>\n",
       "      <th>4</th>\n",
       "      <td>5</td>\n",
       "      <td>Father of the Bride Part II (1995)</td>\n",
       "      <td>Comedy</td>\n",
       "    </tr>\n",
       "  </tbody>\n",
       "</table>\n",
       "</div>"
      ],
      "text/plain": [
       "   movieId                               title  \\\n",
       "0        1                    Toy Story (1995)   \n",
       "1        2                      Jumanji (1995)   \n",
       "2        3             Grumpier Old Men (1995)   \n",
       "3        4            Waiting to Exhale (1995)   \n",
       "4        5  Father of the Bride Part II (1995)   \n",
       "\n",
       "                                        genres  \n",
       "0  Adventure|Animation|Children|Comedy|Fantasy  \n",
       "1                   Adventure|Children|Fantasy  \n",
       "2                               Comedy|Romance  \n",
       "3                         Comedy|Drama|Romance  \n",
       "4                                       Comedy  "
      ]
     },
     "execution_count": 6,
     "metadata": {},
     "output_type": "execute_result"
    }
   ],
   "source": [
    "df1movie.head()"
   ]
  },
  {
   "cell_type": "code",
   "execution_count": 7,
   "id": "c5bb4890-3f73-40ad-9b01-2ac4500217d3",
   "metadata": {},
   "outputs": [
    {
     "data": {
      "text/html": [
       "<div>\n",
       "<style scoped>\n",
       "    .dataframe tbody tr th:only-of-type {\n",
       "        vertical-align: middle;\n",
       "    }\n",
       "\n",
       "    .dataframe tbody tr th {\n",
       "        vertical-align: top;\n",
       "    }\n",
       "\n",
       "    .dataframe thead th {\n",
       "        text-align: right;\n",
       "    }\n",
       "</style>\n",
       "<table border=\"1\" class=\"dataframe\">\n",
       "  <thead>\n",
       "    <tr style=\"text-align: right;\">\n",
       "      <th></th>\n",
       "      <th>userId</th>\n",
       "      <th>movieId</th>\n",
       "      <th>rating</th>\n",
       "      <th>timestamp</th>\n",
       "    </tr>\n",
       "  </thead>\n",
       "  <tbody>\n",
       "    <tr>\n",
       "      <th>0</th>\n",
       "      <td>1</td>\n",
       "      <td>2</td>\n",
       "      <td>3.5</td>\n",
       "      <td>2005-04-02 23:53:47</td>\n",
       "    </tr>\n",
       "    <tr>\n",
       "      <th>1</th>\n",
       "      <td>1</td>\n",
       "      <td>29</td>\n",
       "      <td>3.5</td>\n",
       "      <td>2005-04-02 23:31:16</td>\n",
       "    </tr>\n",
       "    <tr>\n",
       "      <th>2</th>\n",
       "      <td>1</td>\n",
       "      <td>32</td>\n",
       "      <td>3.5</td>\n",
       "      <td>2005-04-02 23:33:39</td>\n",
       "    </tr>\n",
       "    <tr>\n",
       "      <th>3</th>\n",
       "      <td>1</td>\n",
       "      <td>47</td>\n",
       "      <td>3.5</td>\n",
       "      <td>2005-04-02 23:32:07</td>\n",
       "    </tr>\n",
       "    <tr>\n",
       "      <th>4</th>\n",
       "      <td>1</td>\n",
       "      <td>50</td>\n",
       "      <td>3.5</td>\n",
       "      <td>2005-04-02 23:29:40</td>\n",
       "    </tr>\n",
       "  </tbody>\n",
       "</table>\n",
       "</div>"
      ],
      "text/plain": [
       "   userId  movieId  rating            timestamp\n",
       "0       1        2     3.5  2005-04-02 23:53:47\n",
       "1       1       29     3.5  2005-04-02 23:31:16\n",
       "2       1       32     3.5  2005-04-02 23:33:39\n",
       "3       1       47     3.5  2005-04-02 23:32:07\n",
       "4       1       50     3.5  2005-04-02 23:29:40"
      ]
     },
     "execution_count": 7,
     "metadata": {},
     "output_type": "execute_result"
    }
   ],
   "source": [
    "df2rat.head()"
   ]
  },
  {
   "cell_type": "code",
   "execution_count": 8,
   "id": "ecd82303-21d1-4bea-abf6-a17b3d08bb9d",
   "metadata": {},
   "outputs": [
    {
     "data": {
      "image/png": "[encoded data removed]",
      "text/plain": [
       "<Figure size 640x480 with 1 Axes>"
      ]
     },
     "metadata": {},
     "output_type": "display_data"
    }
   ],
   "source": [
    "#distribution of movie ratings\n",
    "sns.countplot(x='rating',data=df2rat)\n",
    "plt.show()"
   ]
  },
  {
   "cell_type": "code",
   "execution_count": 9,
   "id": "d9996672-7b41-4304-98fa-344caf5e62bb",
   "metadata": {},
   "outputs": [
    {
     "data": {
      "text/plain": [
       "movieId\n",
       "296       67310\n",
       "356       66172\n",
       "318       63366\n",
       "593       63299\n",
       "480       59715\n",
       "          ...  \n",
       "120833        1\n",
       "120831        1\n",
       "110052        1\n",
       "123188        1\n",
       "121699        1\n",
       "Name: count, Length: 26744, dtype: int64"
      ]
     },
     "execution_count": 9,
     "metadata": {},
     "output_type": "execute_result"
    }
   ],
   "source": [
    "#movies which are most frequently rated\n",
    "df2rat['movieId'].value_counts()"
   ]
  },
  {
   "cell_type": "code",
   "execution_count": 12,
   "id": "b7ec0e14-1437-40c0-b3e1-5dfdbcbc68f1",
   "metadata": {},
   "outputs": [
    {
     "data": {
      "text/plain": [
       "title\n",
       "Pulp Fiction (1994)                          67310\n",
       "Forrest Gump (1994)                          66172\n",
       "Shawshank Redemption, The (1994)             63366\n",
       "Silence of the Lambs, The (1991)             63299\n",
       "Jurassic Park (1993)                         59715\n",
       "Star Wars: Episode IV - A New Hope (1977)    54502\n",
       "Braveheart (1995)                            53769\n",
       "Terminator 2: Judgment Day (1991)            52244\n",
       "Matrix, The (1999)                           51334\n",
       "Schindler's List (1993)                      50054\n",
       "Name: count, dtype: int64"
      ]
     },
     "execution_count": 12,
     "metadata": {},
     "output_type": "execute_result"
    }
   ],
   "source": [
    "movie_ratings=df2rat.merge(df1movie,on='movieId')\n",
    "movie_ratings['title'].value_counts()[0:10]"
   ]
  },
  {
   "cell_type": "code",
   "execution_count": 13,
   "id": "5d1cd152-3c0f-47c7-826e-fd39c0267f29",
   "metadata": {},
   "outputs": [],
   "source": [
    "#lowest and highest rated movies\n",
    "mean_ratings=df2rat.groupby('movieId')[['rating']].mean()\n",
    "lowest_rated=mean_ratings['rating'].idxmin()"
   ]
  },
  {
   "cell_type": "code",
   "execution_count": 14,
   "id": "194d0ef1-1851-4da6-9196-3e38d878dac1",
   "metadata": {},
   "outputs": [
    {
     "data": {
      "text/plain": [
       "np.int64(5805)"
      ]
     },
     "execution_count": 14,
     "metadata": {},
     "output_type": "execute_result"
    }
   ],
   "source": [
    "lowest_rated"
   ]
  },
  {
   "cell_type": "code",
   "execution_count": 15,
   "id": "a038f90c-62e4-44cc-8674-9e6b4d729f62",
   "metadata": {},
   "outputs": [
    {
     "data": {
      "text/html": [
       "<div>\n",
       "<style scoped>\n",
       "    .dataframe tbody tr th:only-of-type {\n",
       "        vertical-align: middle;\n",
       "    }\n",
       "\n",
       "    .dataframe tbody tr th {\n",
       "        vertical-align: top;\n",
       "    }\n",
       "\n",
       "    .dataframe thead th {\n",
       "        text-align: right;\n",
       "    }\n",
       "</style>\n",
       "<table border=\"1\" class=\"dataframe\">\n",
       "  <thead>\n",
       "    <tr style=\"text-align: right;\">\n",
       "      <th></th>\n",
       "      <th>movieId</th>\n",
       "      <th>title</th>\n",
       "      <th>genres</th>\n",
       "    </tr>\n",
       "  </thead>\n",
       "  <tbody>\n",
       "    <tr>\n",
       "      <th>5706</th>\n",
       "      <td>5805</td>\n",
       "      <td>Besotted (2001)</td>\n",
       "      <td>Drama</td>\n",
       "    </tr>\n",
       "  </tbody>\n",
       "</table>\n",
       "</div>"
      ],
      "text/plain": [
       "      movieId            title genres\n",
       "5706     5805  Besotted (2001)  Drama"
      ]
     },
     "execution_count": 15,
     "metadata": {},
     "output_type": "execute_result"
    }
   ],
   "source": [
    "df1movie[df1movie['movieId']==lowest_rated]"
   ]
  },
  {
   "cell_type": "code",
   "execution_count": 16,
   "id": "79023b9f-3430-4a01-8a2e-19c70603622c",
   "metadata": {},
   "outputs": [
    {
     "data": {
      "text/html": [
       "<div>\n",
       "<style scoped>\n",
       "    .dataframe tbody tr th:only-of-type {\n",
       "        vertical-align: middle;\n",
       "    }\n",
       "\n",
       "    .dataframe tbody tr th {\n",
       "        vertical-align: top;\n",
       "    }\n",
       "\n",
       "    .dataframe thead th {\n",
       "        text-align: right;\n",
       "    }\n",
       "</style>\n",
       "<table border=\"1\" class=\"dataframe\">\n",
       "  <thead>\n",
       "    <tr style=\"text-align: right;\">\n",
       "      <th></th>\n",
       "      <th>movieId</th>\n",
       "      <th>title</th>\n",
       "      <th>genres</th>\n",
       "    </tr>\n",
       "  </thead>\n",
       "  <tbody>\n",
       "    <tr>\n",
       "      <th>9007</th>\n",
       "      <td>26718</td>\n",
       "      <td>Life On A String (Bian chang Bian Zou) (1991)</td>\n",
       "      <td>Adventure|Drama|Fantasy|Musical</td>\n",
       "    </tr>\n",
       "  </tbody>\n",
       "</table>\n",
       "</div>"
      ],
      "text/plain": [
       "      movieId                                          title  \\\n",
       "9007    26718  Life On A String (Bian chang Bian Zou) (1991)   \n",
       "\n",
       "                               genres  \n",
       "9007  Adventure|Drama|Fantasy|Musical  "
      ]
     },
     "execution_count": 16,
     "metadata": {},
     "output_type": "execute_result"
    }
   ],
   "source": [
    "highest_rated=mean_ratings['rating'].idxmax()\n",
    "df1movie[df1movie['movieId']==highest_rated]"
   ]
  },
  {
   "cell_type": "code",
   "execution_count": 18,
   "id": "a20234b2-15cb-439d-ae3a-01b7b7466036",
   "metadata": {},
   "outputs": [
    {
     "data": {
      "text/html": [
       "<div>\n",
       "<style scoped>\n",
       "    .dataframe tbody tr th:only-of-type {\n",
       "        vertical-align: middle;\n",
       "    }\n",
       "\n",
       "    .dataframe tbody tr th {\n",
       "        vertical-align: top;\n",
       "    }\n",
       "\n",
       "    .dataframe thead th {\n",
       "        text-align: right;\n",
       "    }\n",
       "</style>\n",
       "<table border=\"1\" class=\"dataframe\">\n",
       "  <thead>\n",
       "    <tr style=\"text-align: right;\">\n",
       "      <th></th>\n",
       "      <th>count</th>\n",
       "      <th>mean</th>\n",
       "    </tr>\n",
       "    <tr>\n",
       "      <th>movieId</th>\n",
       "      <th></th>\n",
       "      <th></th>\n",
       "    </tr>\n",
       "  </thead>\n",
       "  <tbody>\n",
       "    <tr>\n",
       "      <th>1</th>\n",
       "      <td>49695</td>\n",
       "      <td>3.921240</td>\n",
       "    </tr>\n",
       "    <tr>\n",
       "      <th>2</th>\n",
       "      <td>22243</td>\n",
       "      <td>3.211977</td>\n",
       "    </tr>\n",
       "    <tr>\n",
       "      <th>3</th>\n",
       "      <td>12735</td>\n",
       "      <td>3.151040</td>\n",
       "    </tr>\n",
       "    <tr>\n",
       "      <th>4</th>\n",
       "      <td>2756</td>\n",
       "      <td>2.861393</td>\n",
       "    </tr>\n",
       "    <tr>\n",
       "      <th>5</th>\n",
       "      <td>12161</td>\n",
       "      <td>3.064592</td>\n",
       "    </tr>\n",
       "  </tbody>\n",
       "</table>\n",
       "</div>"
      ],
      "text/plain": [
       "         count      mean\n",
       "movieId                 \n",
       "1        49695  3.921240\n",
       "2        22243  3.211977\n",
       "3        12735  3.151040\n",
       "4         2756  2.861393\n",
       "5        12161  3.064592"
      ]
     },
     "execution_count": 18,
     "metadata": {},
     "output_type": "execute_result"
    }
   ],
   "source": [
    "movie_stats=df2rat.groupby('movieId')['rating'].agg(['count','mean'])\n",
    "movie_stats.head()"
   ]
  },
  {
   "cell_type": "code",
   "execution_count": 22,
   "id": "9ed34e97-0be0-41ee-8677-0f73ad850865",
   "metadata": {},
   "outputs": [
    {
     "name": "stdout",
     "output_type": "stream",
     "text": [
      "747.8411232425965 3.1331999901256933\n"
     ]
    }
   ],
   "source": [
    "c=movie_stats['count'].mean()\n",
    "m=movie_stats['mean'].mean()\n",
    "print(c,m)\n",
    "def bayavg(df2rat):\n",
    "    bayavg1=(c*m+df2rat.sum())/(c+df2rat.count())\n",
    "    return bayavg1"
   ]
  },
  {
   "cell_type": "code",
   "execution_count": 23,
   "id": "322ff771-f857-41a2-ae3e-98efaa11597e",
   "metadata": {},
   "outputs": [
    {
     "data": {
      "text/plain": [
       "np.float64(3.138179178255044)"
      ]
     },
     "execution_count": 23,
     "metadata": {},
     "output_type": "execute_result"
    }
   ],
   "source": [
    "lamerica=pd.Series([5,5])\n",
    "bayavg(lamerica)"
   ]
  },
  {
   "cell_type": "code",
   "execution_count": 24,
   "id": "f43869d7-ccd1-483b-8da3-831e7e0941b3",
   "metadata": {},
   "outputs": [],
   "source": [
    "bayavgrat=df2rat.groupby('movieId')['rating'].agg(bayavg)"
   ]
  },
  {
   "cell_type": "code",
   "execution_count": 25,
   "id": "8a365180-2c39-404b-81a2-a3f346a1a032",
   "metadata": {},
   "outputs": [
    {
     "data": {
      "text/plain": [
       "movieId\n",
       "1         3.909556\n",
       "2         3.209414\n",
       "3         3.150051\n",
       "4         2.919406\n",
       "5         3.068566\n",
       "            ...   \n",
       "131254    3.134358\n",
       "131256    3.134358\n",
       "131258    3.132354\n",
       "131260    3.133022\n",
       "131262    3.134358\n",
       "Name: rating, Length: 26744, dtype: float64"
      ]
     },
     "execution_count": 25,
     "metadata": {},
     "output_type": "execute_result"
    }
   ],
   "source": [
    "bayavgrat"
   ]
  },
  {
   "cell_type": "code",
   "execution_count": 26,
   "id": "1ee38837-163a-459b-9d5d-dc2a88919b89",
   "metadata": {},
   "outputs": [],
   "source": [
    "bayavgrat.columns=['movieId','bayavg']\n",
    "movie_stats=movie_stats.merge(bayavgrat,on='movieId')"
   ]
  },
  {
   "cell_type": "code",
   "execution_count": 27,
   "id": "5273f10a-ea52-4f66-b00a-85e63b5d9906",
   "metadata": {},
   "outputs": [
    {
     "data": {
      "text/html": [
       "<div>\n",
       "<style scoped>\n",
       "    .dataframe tbody tr th:only-of-type {\n",
       "        vertical-align: middle;\n",
       "    }\n",
       "\n",
       "    .dataframe tbody tr th {\n",
       "        vertical-align: top;\n",
       "    }\n",
       "\n",
       "    .dataframe thead th {\n",
       "        text-align: right;\n",
       "    }\n",
       "</style>\n",
       "<table border=\"1\" class=\"dataframe\">\n",
       "  <thead>\n",
       "    <tr style=\"text-align: right;\">\n",
       "      <th></th>\n",
       "      <th>count</th>\n",
       "      <th>mean</th>\n",
       "      <th>rating</th>\n",
       "    </tr>\n",
       "    <tr>\n",
       "      <th>movieId</th>\n",
       "      <th></th>\n",
       "      <th></th>\n",
       "      <th></th>\n",
       "    </tr>\n",
       "  </thead>\n",
       "  <tbody>\n",
       "    <tr>\n",
       "      <th>1</th>\n",
       "      <td>49695</td>\n",
       "      <td>3.921240</td>\n",
       "      <td>3.909556</td>\n",
       "    </tr>\n",
       "    <tr>\n",
       "      <th>2</th>\n",
       "      <td>22243</td>\n",
       "      <td>3.211977</td>\n",
       "      <td>3.209414</td>\n",
       "    </tr>\n",
       "    <tr>\n",
       "      <th>3</th>\n",
       "      <td>12735</td>\n",
       "      <td>3.151040</td>\n",
       "      <td>3.150051</td>\n",
       "    </tr>\n",
       "    <tr>\n",
       "      <th>4</th>\n",
       "      <td>2756</td>\n",
       "      <td>2.861393</td>\n",
       "      <td>2.919406</td>\n",
       "    </tr>\n",
       "    <tr>\n",
       "      <th>5</th>\n",
       "      <td>12161</td>\n",
       "      <td>3.064592</td>\n",
       "      <td>3.068566</td>\n",
       "    </tr>\n",
       "  </tbody>\n",
       "</table>\n",
       "</div>"
      ],
      "text/plain": [
       "         count      mean    rating\n",
       "movieId                           \n",
       "1        49695  3.921240  3.909556\n",
       "2        22243  3.211977  3.209414\n",
       "3        12735  3.151040  3.150051\n",
       "4         2756  2.861393  2.919406\n",
       "5        12161  3.064592  3.068566"
      ]
     },
     "execution_count": 27,
     "metadata": {},
     "output_type": "execute_result"
    }
   ],
   "source": [
    "movie_stats.head()"
   ]
  },
  {
   "cell_type": "code",
   "execution_count": 28,
   "id": "0f5f7794-d01d-461d-9056-b60ecd59f648",
   "metadata": {},
   "outputs": [
    {
     "data": {
      "text/html": [
       "<div>\n",
       "<style scoped>\n",
       "    .dataframe tbody tr th:only-of-type {\n",
       "        vertical-align: middle;\n",
       "    }\n",
       "\n",
       "    .dataframe tbody tr th {\n",
       "        vertical-align: top;\n",
       "    }\n",
       "\n",
       "    .dataframe thead th {\n",
       "        text-align: right;\n",
       "    }\n",
       "</style>\n",
       "<table border=\"1\" class=\"dataframe\">\n",
       "  <thead>\n",
       "    <tr style=\"text-align: right;\">\n",
       "      <th></th>\n",
       "      <th>movieId</th>\n",
       "      <th>title</th>\n",
       "      <th>genres</th>\n",
       "    </tr>\n",
       "  </thead>\n",
       "  <tbody>\n",
       "    <tr>\n",
       "      <th>0</th>\n",
       "      <td>1</td>\n",
       "      <td>Toy Story (1995)</td>\n",
       "      <td>Adventure|Animation|Children|Comedy|Fantasy</td>\n",
       "    </tr>\n",
       "    <tr>\n",
       "      <th>1</th>\n",
       "      <td>2</td>\n",
       "      <td>Jumanji (1995)</td>\n",
       "      <td>Adventure|Children|Fantasy</td>\n",
       "    </tr>\n",
       "    <tr>\n",
       "      <th>2</th>\n",
       "      <td>3</td>\n",
       "      <td>Grumpier Old Men (1995)</td>\n",
       "      <td>Comedy|Romance</td>\n",
       "    </tr>\n",
       "    <tr>\n",
       "      <th>3</th>\n",
       "      <td>4</td>\n",
       "      <td>Waiting to Exhale (1995)</td>\n",
       "      <td>Comedy|Drama|Romance</td>\n",
       "    </tr>\n",
       "    <tr>\n",
       "      <th>4</th>\n",
       "      <td>5</td>\n",
       "      <td>Father of the Bride Part II (1995)</td>\n",
       "      <td>Comedy</td>\n",
       "    </tr>\n",
       "  </tbody>\n",
       "</table>\n",
       "</div>"
      ],
      "text/plain": [
       "   movieId                               title  \\\n",
       "0        1                    Toy Story (1995)   \n",
       "1        2                      Jumanji (1995)   \n",
       "2        3             Grumpier Old Men (1995)   \n",
       "3        4            Waiting to Exhale (1995)   \n",
       "4        5  Father of the Bride Part II (1995)   \n",
       "\n",
       "                                        genres  \n",
       "0  Adventure|Animation|Children|Comedy|Fantasy  \n",
       "1                   Adventure|Children|Fantasy  \n",
       "2                               Comedy|Romance  \n",
       "3                         Comedy|Drama|Romance  \n",
       "4                                       Comedy  "
      ]
     },
     "execution_count": 28,
     "metadata": {},
     "output_type": "execute_result"
    }
   ],
   "source": [
    "#a glimpse atmovie genre\n",
    "df1movie.head()"
   ]
  },
  {
   "cell_type": "code",
   "execution_count": 29,
   "id": "55702d9e-3d1a-45ca-a406-58671b3bf82e",
   "metadata": {},
   "outputs": [],
   "source": [
    "#removing the genres column instead on string we can have a list\n",
    "df1movie['genres']=df1movie['genres'].apply(lambda x: x.split('|'))"
   ]
  },
  {
   "cell_type": "code",
   "execution_count": 30,
   "id": "715ddac7-6322-42b6-b356-960228ac5e3e",
   "metadata": {},
   "outputs": [
    {
     "data": {
      "text/html": [
       "<div>\n",
       "<style scoped>\n",
       "    .dataframe tbody tr th:only-of-type {\n",
       "        vertical-align: middle;\n",
       "    }\n",
       "\n",
       "    .dataframe tbody tr th {\n",
       "        vertical-align: top;\n",
       "    }\n",
       "\n",
       "    .dataframe thead th {\n",
       "        text-align: right;\n",
       "    }\n",
       "</style>\n",
       "<table border=\"1\" class=\"dataframe\">\n",
       "  <thead>\n",
       "    <tr style=\"text-align: right;\">\n",
       "      <th></th>\n",
       "      <th>movieId</th>\n",
       "      <th>title</th>\n",
       "      <th>genres</th>\n",
       "    </tr>\n",
       "  </thead>\n",
       "  <tbody>\n",
       "    <tr>\n",
       "      <th>0</th>\n",
       "      <td>1</td>\n",
       "      <td>Toy Story (1995)</td>\n",
       "      <td>[Adventure, Animation, Children, Comedy, Fantasy]</td>\n",
       "    </tr>\n",
       "    <tr>\n",
       "      <th>1</th>\n",
       "      <td>2</td>\n",
       "      <td>Jumanji (1995)</td>\n",
       "      <td>[Adventure, Children, Fantasy]</td>\n",
       "    </tr>\n",
       "    <tr>\n",
       "      <th>2</th>\n",
       "      <td>3</td>\n",
       "      <td>Grumpier Old Men (1995)</td>\n",
       "      <td>[Comedy, Romance]</td>\n",
       "    </tr>\n",
       "    <tr>\n",
       "      <th>3</th>\n",
       "      <td>4</td>\n",
       "      <td>Waiting to Exhale (1995)</td>\n",
       "      <td>[Comedy, Drama, Romance]</td>\n",
       "    </tr>\n",
       "    <tr>\n",
       "      <th>4</th>\n",
       "      <td>5</td>\n",
       "      <td>Father of the Bride Part II (1995)</td>\n",
       "      <td>[Comedy]</td>\n",
       "    </tr>\n",
       "  </tbody>\n",
       "</table>\n",
       "</div>"
      ],
      "text/plain": [
       "   movieId                               title  \\\n",
       "0        1                    Toy Story (1995)   \n",
       "1        2                      Jumanji (1995)   \n",
       "2        3             Grumpier Old Men (1995)   \n",
       "3        4            Waiting to Exhale (1995)   \n",
       "4        5  Father of the Bride Part II (1995)   \n",
       "\n",
       "                                              genres  \n",
       "0  [Adventure, Animation, Children, Comedy, Fantasy]  \n",
       "1                     [Adventure, Children, Fantasy]  \n",
       "2                                  [Comedy, Romance]  \n",
       "3                           [Comedy, Drama, Romance]  \n",
       "4                                           [Comedy]  "
      ]
     },
     "execution_count": 30,
     "metadata": {},
     "output_type": "execute_result"
    }
   ],
   "source": [
    "df1movie.head()"
   ]
  },
  {
   "cell_type": "code",
   "execution_count": 31,
   "id": "a1ec26af-1b9c-4ccf-89f6-1d3c81d8690d",
   "metadata": {},
   "outputs": [
    {
     "name": "stdout",
     "output_type": "stream",
     "text": [
      "20\n"
     ]
    },
    {
     "data": {
      "text/plain": [
       "Counter({'Drama': 13344,\n",
       "         'Comedy': 8374,\n",
       "         'Thriller': 4178,\n",
       "         'Romance': 4127,\n",
       "         'Action': 3520,\n",
       "         'Crime': 2939,\n",
       "         'Horror': 2611,\n",
       "         'Documentary': 2471,\n",
       "         'Adventure': 2329,\n",
       "         'Sci-Fi': 1743,\n",
       "         'Mystery': 1514,\n",
       "         'Fantasy': 1412,\n",
       "         'War': 1194,\n",
       "         'Children': 1139,\n",
       "         'Musical': 1036,\n",
       "         'Animation': 1027,\n",
       "         'Western': 676,\n",
       "         'Film-Noir': 330,\n",
       "         '(no genres listed)': 246,\n",
       "         'IMAX': 196})"
      ]
     },
     "execution_count": 31,
     "metadata": {},
     "output_type": "execute_result"
    }
   ],
   "source": [
    "#to see how many genres are there\n",
    "from collections import Counter\n",
    "gere_freq=Counter(g for genres in df1movie['genres'] for g in genres)\n",
    "print(len(gere_freq))\n",
    "gere_freq"
   ]
  },
  {
   "cell_type": "code",
   "execution_count": 32,
   "id": "718f49c3-5b4e-4ea3-9ee4-7ef20ff44d4c",
   "metadata": {},
   "outputs": [
    {
     "name": "stdout",
     "output_type": "stream",
     "text": [
      "[('Drama', 13344), ('Comedy', 8374), ('Thriller', 4178), ('Romance', 4127), ('Action', 3520)]\n"
     ]
    }
   ],
   "source": [
    "#mos common genres\n",
    "print(gere_freq.most_common(5))"
   ]
  },
  {
   "cell_type": "code",
   "execution_count": 35,
   "id": "123e08b1-247b-4189-8237-f923b769af70",
   "metadata": {},
   "outputs": [
    {
     "data": {
      "text/html": [
       "<div>\n",
       "<style scoped>\n",
       "    .dataframe tbody tr th:only-of-type {\n",
       "        vertical-align: middle;\n",
       "    }\n",
       "\n",
       "    .dataframe tbody tr th {\n",
       "        vertical-align: top;\n",
       "    }\n",
       "\n",
       "    .dataframe thead th {\n",
       "        text-align: right;\n",
       "    }\n",
       "</style>\n",
       "<table border=\"1\" class=\"dataframe\">\n",
       "  <thead>\n",
       "    <tr style=\"text-align: right;\">\n",
       "      <th></th>\n",
       "      <th>genre</th>\n",
       "      <th>count</th>\n",
       "    </tr>\n",
       "  </thead>\n",
       "  <tbody>\n",
       "    <tr>\n",
       "      <th>0</th>\n",
       "      <td>Adventure</td>\n",
       "      <td>2329</td>\n",
       "    </tr>\n",
       "    <tr>\n",
       "      <th>1</th>\n",
       "      <td>Animation</td>\n",
       "      <td>1027</td>\n",
       "    </tr>\n",
       "    <tr>\n",
       "      <th>2</th>\n",
       "      <td>Children</td>\n",
       "      <td>1139</td>\n",
       "    </tr>\n",
       "    <tr>\n",
       "      <th>3</th>\n",
       "      <td>Comedy</td>\n",
       "      <td>8374</td>\n",
       "    </tr>\n",
       "    <tr>\n",
       "      <th>4</th>\n",
       "      <td>Fantasy</td>\n",
       "      <td>1412</td>\n",
       "    </tr>\n",
       "  </tbody>\n",
       "</table>\n",
       "</div>"
      ],
      "text/plain": [
       "       genre  count\n",
       "0  Adventure   2329\n",
       "1  Animation   1027\n",
       "2   Children   1139\n",
       "3     Comedy   8374\n",
       "4    Fantasy   1412"
      ]
     },
     "execution_count": 35,
     "metadata": {},
     "output_type": "execute_result"
    }
   ],
   "source": [
    "gere_freq_df=pd.DataFrame([gere_freq]).T.reset_index()\n",
    "gere_freq_df.columns=['genre','count']\n",
    "gere_freq_df.head()"
   ]
  },
  {
   "cell_type": "code",
   "execution_count": 38,
   "id": "0a4e5f33-aa79-4b3a-9a23-8921ed49c104",
   "metadata": {},
   "outputs": [
    {
     "name": "stderr",
     "output_type": "stream",
     "text": [
      "C:\\Users\\jinag\\AppData\\Local\\Temp\\ipykernel_1240\\2528324142.py:1: FutureWarning: \n",
      "\n",
      "Passing `palette` without assigning `hue` is deprecated and will be removed in v0.14.0. Assign the `x` variable to `hue` and set `legend=False` for the same effect.\n",
      "\n",
      "  sns.barplot(x='genre',y='count',data=gere_freq_df.sort_values(by='count',ascending=False),palette='viridis')\n"
     ]
    },
    {
     "data": {
      "text/plain": [
       "([0, 1, 2, 3, 4, 5, 6, 7, 8, 9, 10, 11, 12, 13, 14, 15, 16, 17, 18, 19],\n",
       " [Text(0, 0, 'Drama'),\n",
       "  Text(1, 0, 'Comedy'),\n",
       "  Text(2, 0, 'Thriller'),\n",
       "  Text(3, 0, 'Romance'),\n",
       "  Text(4, 0, 'Action'),\n",
       "  Text(5, 0, 'Crime'),\n",
       "  Text(6, 0, 'Horror'),\n",
       "  Text(7, 0, 'Documentary'),\n",
       "  Text(8, 0, 'Adventure'),\n",
       "  Text(9, 0, 'Sci-Fi'),\n",
       "  Text(10, 0, 'Mystery'),\n",
       "  Text(11, 0, 'Fantasy'),\n",
       "  Text(12, 0, 'War'),\n",
       "  Text(13, 0, 'Children'),\n",
       "  Text(14, 0, 'Musical'),\n",
       "  Text(15, 0, 'Animation'),\n",
       "  Text(16, 0, 'Western'),\n",
       "  Text(17, 0, 'Film-Noir'),\n",
       "  Text(18, 0, '(no genres listed)'),\n",
       "  Text(19, 0, 'IMAX')])"
      ]
     },
     "execution_count": 38,
     "metadata": {},
     "output_type": "execute_result"
    },
    {
     "data": {
      "image/png": "[encoded data removed]",
      "text/plain": [
       "<Figure size 640x480 with 1 Axes>"
      ]
     },
     "metadata": {},
     "output_type": "display_data"
    }
   ],
   "source": [
    "sns.barplot(x='genre',y='count',data=gere_freq_df.sort_values(by='count',ascending=False),palette='viridis')\n",
    "plt.xticks(rotation=90)"
   ]
  },
  {
   "cell_type": "code",
   "execution_count": 41,
   "id": "4000f7da-2f24-46d6-8abe-3ce3aaf77a02",
   "metadata": {},
   "outputs": [],
   "source": [
    "#data preprocessing\n",
    "from scipy.sparse import csr_matrix\n",
    "def create(df):\n",
    "    #generates sparse matrix from ratings dataframe\n",
    "    m=df['userId'].nunique()\n",
    "    n=df['movieId'].nunique()\n",
    "    user_map=dict(zip(np.unique(df['userId']),list(range(m))))\n",
    "    movie_map=dict(zip(np.unique(df['movieId']),list(range(n))))\n",
    "    user_inv=dict(zip(list(range(m)),np.unique(df['userId'])))\n",
    "    movie_inv=dict(zip(list(range(n)),np.unique(df['movieId'])))\n",
    "    user_idx=[user_map[i] for i in df['userId']]\n",
    "    item_idx=[movie_map[i] for i in df['movieId']]\n",
    "    \n",
    "    x=csr_matrix((df['rating'],(user_idx,item_idx)),shape=(m,n))\n",
    "    return x,user_map,movie_map,user_inv,movie_inv,user_idx,item_idx\n",
    "x,user_map,movie_map,user_inv,movie_inv,user_idx,item_idx=create(df2rat)"
   ]
  },
  {
   "cell_type": "code",
   "execution_count": 43,
   "id": "182091ef-9134-4fae-bdc5-95575ba074b6",
   "metadata": {},
   "outputs": [
    {
     "data": {
      "text/plain": [
       "(138493, 26744)"
      ]
     },
     "execution_count": 43,
     "metadata": {},
     "output_type": "execute_result"
    }
   ],
   "source": [
    "x.shape"
   ]
  },
  {
   "cell_type": "code",
   "execution_count": 44,
   "id": "3c35c429-fd08-4131-bafd-b7713de83d8a",
   "metadata": {},
   "outputs": [
    {
     "name": "stdout",
     "output_type": "stream",
     "text": [
      "0.0053998478135544505\n"
     ]
    }
   ],
   "source": [
    "#evaluate sparsity\n",
    "total=x.shape[0]*x.shape[1]\n",
    "ratings=x.nnz\n",
    "sparsity=ratings/total\n",
    "print(sparsity)"
   ]
  },
  {
   "cell_type": "code",
   "execution_count": 45,
   "id": "9f2c5847-d4a3-48b3-a285-9ed329af33f2",
   "metadata": {},
   "outputs": [
    {
     "data": {
      "text/plain": [
       "138493"
      ]
     },
     "execution_count": 45,
     "metadata": {},
     "output_type": "execute_result"
    }
   ],
   "source": [
    "ratings_per_user=x.getnnz(axis=1)\n",
    "len(ratings_per_user)"
   ]
  },
  {
   "cell_type": "code",
   "execution_count": 46,
   "id": "1ac21bfc-7b69-491f-8c25-a45ffd891826",
   "metadata": {},
   "outputs": [
    {
     "name": "stdout",
     "output_type": "stream",
     "text": [
      "9254\n",
      "20\n"
     ]
    }
   ],
   "source": [
    "#most and least active users\n",
    "print(ratings_per_user.max())\n",
    "print(ratings_per_user.min())"
   ]
  },
  {
   "cell_type": "code",
   "execution_count": 47,
   "id": "dfa59c6a-bc5b-42fd-8afe-033da0844531",
   "metadata": {},
   "outputs": [
    {
     "data": {
      "text/plain": [
       "26744"
      ]
     },
     "execution_count": 47,
     "metadata": {},
     "output_type": "execute_result"
    }
   ],
   "source": [
    "ratings_per_movie=x.getnnz(axis=0)\n",
    "len(ratings_per_movie)"
   ]
  },
  {
   "cell_type": "code",
   "execution_count": 48,
   "id": "f653d1f6-0a6b-4016-a8ee-77b1039d8417",
   "metadata": {},
   "outputs": [
    {
     "name": "stdout",
     "output_type": "stream",
     "text": [
      "67310\n",
      "1\n"
     ]
    }
   ],
   "source": [
    "#most and least active movies\n",
    "print(ratings_per_movie.max())\n",
    "print(ratings_per_movie.min())"
   ]
  },
  {
   "cell_type": "code",
   "execution_count": 51,
   "id": "722b185d-8a04-4eff-9f8d-0f22fa35363d",
   "metadata": {},
   "outputs": [
    {
     "data": {
      "image/png": "[encoded data removed]",
      "text/plain": [
       "<Figure size 640x480 with 1 Axes>"
      ]
     },
     "metadata": {},
     "output_type": "display_data"
    },
    {
     "data": {
      "image/png": "[encoded data removed]",
      "text/plain": [
       "<Figure size 640x480 with 1 Axes>"
      ]
     },
     "metadata": {},
     "output_type": "display_data"
    }
   ],
   "source": [
    "sns.kdeplot(ratings_per_user,fill=True)\n",
    "plt.show()\n",
    "sns.kdeplot(ratings_per_movie,fill=True)\n",
    "plt.show()"
   ]
  },
  {
   "cell_type": "code",
   "execution_count": 56,
   "id": "1bd2dc3c-ec72-4fb5-95a2-faf019eccfcf",
   "metadata": {},
   "outputs": [],
   "source": [
    "#recommendations with k-nn\n",
    "from sklearn.neighbors import NearestNeighbors\n",
    "def find_similar_movies(movie_id,x,movie_map,movie_inv,k,metric='cosine'):\n",
    "    x=x.T\n",
    "    neigh_id=[]\n",
    "    movie_ind=movie_map[movie_id]\n",
    "    movie_vec=x[movie_ind]\n",
    "    if isinstance(movie_vec,(np.ndarray)):\n",
    "        movie_vec=movie_vec.reshape(1,-1)\n",
    "    knn=NearestNeighbors(n_neighbors=k+1,algorithm=\"brute\",metric=metric)\n",
    "    knn.fit(x)\n",
    "    neighbour=knn.kneighbors(movie_vec,return_distance=False)\n",
    "    for i in range(0,k):\n",
    "        n=neighbour.item(i)\n",
    "        neigh_id.append(movie_inv[n])\n",
    "    neigh_id.pop(0)\n",
    "    return neigh_id"
   ]
  },
  {
   "cell_type": "code",
   "execution_count": 57,
   "id": "b902b72e-3944-46d9-9d85-23abf377f7c3",
   "metadata": {},
   "outputs": [
    {
     "data": {
      "text/plain": [
       "[np.int64(260),\n",
       " np.int64(780),\n",
       " np.int64(1210),\n",
       " np.int64(3114),\n",
       " np.int64(1270),\n",
       " np.int64(356),\n",
       " np.int64(588),\n",
       " np.int64(648),\n",
       " np.int64(480)]"
      ]
     },
     "execution_count": 57,
     "metadata": {},
     "output_type": "execute_result"
    }
   ],
   "source": [
    "simil_mov=find_similar_movies(1,x,movie_map,movie_inv,k=10)\n",
    "simil_mov"
   ]
  },
  {
   "cell_type": "code",
   "execution_count": 58,
   "id": "b464c519-d6e3-4607-8083-da1ae18e51b6",
   "metadata": {},
   "outputs": [
    {
     "name": "stdout",
     "output_type": "stream",
     "text": [
      "Toy Story (1995)\n",
      "Star Wars: Episode IV - A New Hope (1977)\n",
      "Independence Day (a.k.a. ID4) (1996)\n",
      "Star Wars: Episode VI - Return of the Jedi (1983)\n",
      "Toy Story 2 (1999)\n",
      "Back to the Future (1985)\n",
      "Forrest Gump (1994)\n",
      "Aladdin (1992)\n",
      "Mission: Impossible (1996)\n",
      "Jurassic Park (1993)\n"
     ]
    }
   ],
   "source": [
    "movie_titles=dict(zip(df1movie['movieId'],df1movie['title']))\n",
    "movie_id=1#movie titles\n",
    "simil_mov=find_similar_movies(movie_id,x,movie_map,movie_inv,metric='cosine',k=10)\n",
    "movie_title=movie_titles[movie_id]\n",
    "print(movie_title)\n",
    "for i in simil_mov:\n",
    "    print(movie_titles[i])"
   ]
  },
  {
   "cell_type": "code",
   "execution_count": 59,
   "id": "bfb64efb-6d01-4d2d-a303-d470fa0a3593",
   "metadata": {},
   "outputs": [
    {
     "name": "stdout",
     "output_type": "stream",
     "text": [
      "27278\n"
     ]
    }
   ],
   "source": [
    "#movies that have no or very few readings\n",
    "#content based filtering\n",
    "#handling the cold-start problem\n",
    "n=df1movie['movieId'].nunique()\n",
    "print(n)"
   ]
  },
  {
   "cell_type": "code",
   "execution_count": 63,
   "id": "df51a637-da03-45e0-b04b-a90240191c16",
   "metadata": {},
   "outputs": [],
   "source": [
    "genres=set(g for G in df1movie['genres'] for g in G)\n",
    "for g in genres:\n",
    "    df1movie[g]=df1movie.genres.transform(lambda x: int(g in x))\n",
    "\n",
    "df1movie\n",
    "movie_genres=df1movie.drop(columns=['movieId','title','genres'])"
   ]
  },
  {
   "cell_type": "code",
   "execution_count": 64,
   "id": "34c8024c-1324-4754-8426-3da5954db710",
   "metadata": {},
   "outputs": [
    {
     "data": {
      "text/html": [
       "<div>\n",
       "<style scoped>\n",
       "    .dataframe tbody tr th:only-of-type {\n",
       "        vertical-align: middle;\n",
       "    }\n",
       "\n",
       "    .dataframe tbody tr th {\n",
       "        vertical-align: top;\n",
       "    }\n",
       "\n",
       "    .dataframe thead th {\n",
       "        text-align: right;\n",
       "    }\n",
       "</style>\n",
       "<table border=\"1\" class=\"dataframe\">\n",
       "  <thead>\n",
       "    <tr style=\"text-align: right;\">\n",
       "      <th></th>\n",
       "      <th>movieId</th>\n",
       "      <th>title</th>\n",
       "      <th>genres</th>\n",
       "      <th>Children</th>\n",
       "      <th>Crime</th>\n",
       "      <th>Comedy</th>\n",
       "      <th>IMAX</th>\n",
       "      <th>Film-Noir</th>\n",
       "      <th>Fantasy</th>\n",
       "      <th>War</th>\n",
       "      <th>...</th>\n",
       "      <th>(no genres listed)</th>\n",
       "      <th>Sci-Fi</th>\n",
       "      <th>Musical</th>\n",
       "      <th>Documentary</th>\n",
       "      <th>Horror</th>\n",
       "      <th>Animation</th>\n",
       "      <th>Mystery</th>\n",
       "      <th>Drama</th>\n",
       "      <th>Western</th>\n",
       "      <th>Action</th>\n",
       "    </tr>\n",
       "  </thead>\n",
       "  <tbody>\n",
       "    <tr>\n",
       "      <th>0</th>\n",
       "      <td>1</td>\n",
       "      <td>Toy Story (1995)</td>\n",
       "      <td>[Adventure, Animation, Children, Comedy, Fantasy]</td>\n",
       "      <td>1</td>\n",
       "      <td>0</td>\n",
       "      <td>1</td>\n",
       "      <td>0</td>\n",
       "      <td>0</td>\n",
       "      <td>1</td>\n",
       "      <td>0</td>\n",
       "      <td>...</td>\n",
       "      <td>0</td>\n",
       "      <td>0</td>\n",
       "      <td>0</td>\n",
       "      <td>0</td>\n",
       "      <td>0</td>\n",
       "      <td>1</td>\n",
       "      <td>0</td>\n",
       "      <td>0</td>\n",
       "      <td>0</td>\n",
       "      <td>0</td>\n",
       "    </tr>\n",
       "    <tr>\n",
       "      <th>1</th>\n",
       "      <td>2</td>\n",
       "      <td>Jumanji (1995)</td>\n",
       "      <td>[Adventure, Children, Fantasy]</td>\n",
       "      <td>1</td>\n",
       "      <td>0</td>\n",
       "      <td>0</td>\n",
       "      <td>0</td>\n",
       "      <td>0</td>\n",
       "      <td>1</td>\n",
       "      <td>0</td>\n",
       "      <td>...</td>\n",
       "      <td>0</td>\n",
       "      <td>0</td>\n",
       "      <td>0</td>\n",
       "      <td>0</td>\n",
       "      <td>0</td>\n",
       "      <td>0</td>\n",
       "      <td>0</td>\n",
       "      <td>0</td>\n",
       "      <td>0</td>\n",
       "      <td>0</td>\n",
       "    </tr>\n",
       "    <tr>\n",
       "      <th>2</th>\n",
       "      <td>3</td>\n",
       "      <td>Grumpier Old Men (1995)</td>\n",
       "      <td>[Comedy, Romance]</td>\n",
       "      <td>0</td>\n",
       "      <td>0</td>\n",
       "      <td>1</td>\n",
       "      <td>0</td>\n",
       "      <td>0</td>\n",
       "      <td>0</td>\n",
       "      <td>0</td>\n",
       "      <td>...</td>\n",
       "      <td>0</td>\n",
       "      <td>0</td>\n",
       "      <td>0</td>\n",
       "      <td>0</td>\n",
       "      <td>0</td>\n",
       "      <td>0</td>\n",
       "      <td>0</td>\n",
       "      <td>0</td>\n",
       "      <td>0</td>\n",
       "      <td>0</td>\n",
       "    </tr>\n",
       "    <tr>\n",
       "      <th>3</th>\n",
       "      <td>4</td>\n",
       "      <td>Waiting to Exhale (1995)</td>\n",
       "      <td>[Comedy, Drama, Romance]</td>\n",
       "      <td>0</td>\n",
       "      <td>0</td>\n",
       "      <td>1</td>\n",
       "      <td>0</td>\n",
       "      <td>0</td>\n",
       "      <td>0</td>\n",
       "      <td>0</td>\n",
       "      <td>...</td>\n",
       "      <td>0</td>\n",
       "      <td>0</td>\n",
       "      <td>0</td>\n",
       "      <td>0</td>\n",
       "      <td>0</td>\n",
       "      <td>0</td>\n",
       "      <td>0</td>\n",
       "      <td>1</td>\n",
       "      <td>0</td>\n",
       "      <td>0</td>\n",
       "    </tr>\n",
       "    <tr>\n",
       "      <th>4</th>\n",
       "      <td>5</td>\n",
       "      <td>Father of the Bride Part II (1995)</td>\n",
       "      <td>[Comedy]</td>\n",
       "      <td>0</td>\n",
       "      <td>0</td>\n",
       "      <td>1</td>\n",
       "      <td>0</td>\n",
       "      <td>0</td>\n",
       "      <td>0</td>\n",
       "      <td>0</td>\n",
       "      <td>...</td>\n",
       "      <td>0</td>\n",
       "      <td>0</td>\n",
       "      <td>0</td>\n",
       "      <td>0</td>\n",
       "      <td>0</td>\n",
       "      <td>0</td>\n",
       "      <td>0</td>\n",
       "      <td>0</td>\n",
       "      <td>0</td>\n",
       "      <td>0</td>\n",
       "    </tr>\n",
       "  </tbody>\n",
       "</table>\n",
       "<p>5 rows × 23 columns</p>\n",
       "</div>"
      ],
      "text/plain": [
       "   movieId                               title  \\\n",
       "0        1                    Toy Story (1995)   \n",
       "1        2                      Jumanji (1995)   \n",
       "2        3             Grumpier Old Men (1995)   \n",
       "3        4            Waiting to Exhale (1995)   \n",
       "4        5  Father of the Bride Part II (1995)   \n",
       "\n",
       "                                              genres  Children  Crime  Comedy  \\\n",
       "0  [Adventure, Animation, Children, Comedy, Fantasy]         1      0       1   \n",
       "1                     [Adventure, Children, Fantasy]         1      0       0   \n",
       "2                                  [Comedy, Romance]         0      0       1   \n",
       "3                           [Comedy, Drama, Romance]         0      0       1   \n",
       "4                                           [Comedy]         0      0       1   \n",
       "\n",
       "   IMAX  Film-Noir  Fantasy  War  ...  (no genres listed)  Sci-Fi  Musical  \\\n",
       "0     0          0        1    0  ...                   0       0        0   \n",
       "1     0          0        1    0  ...                   0       0        0   \n",
       "2     0          0        0    0  ...                   0       0        0   \n",
       "3     0          0        0    0  ...                   0       0        0   \n",
       "4     0          0        0    0  ...                   0       0        0   \n",
       "\n",
       "   Documentary  Horror  Animation  Mystery  Drama  Western  Action  \n",
       "0            0       0          1        0      0        0       0  \n",
       "1            0       0          0        0      0        0       0  \n",
       "2            0       0          0        0      0        0       0  \n",
       "3            0       0          0        0      1        0       0  \n",
       "4            0       0          0        0      0        0       0  \n",
       "\n",
       "[5 rows x 23 columns]"
      ]
     },
     "execution_count": 64,
     "metadata": {},
     "output_type": "execute_result"
    }
   ],
   "source": [
    "df1movie.head()"
   ]
  },
  {
   "cell_type": "code",
   "execution_count": 80,
   "id": "4b96bb7f-fc0e-4bb5-9676-c6fc0b632de8",
   "metadata": {},
   "outputs": [
    {
     "data": {
      "text/html": [
       "<div>\n",
       "<style scoped>\n",
       "    .dataframe tbody tr th:only-of-type {\n",
       "        vertical-align: middle;\n",
       "    }\n",
       "\n",
       "    .dataframe tbody tr th {\n",
       "        vertical-align: top;\n",
       "    }\n",
       "\n",
       "    .dataframe thead th {\n",
       "        text-align: right;\n",
       "    }\n",
       "</style>\n",
       "<table border=\"1\" class=\"dataframe\">\n",
       "  <thead>\n",
       "    <tr style=\"text-align: right;\">\n",
       "      <th></th>\n",
       "      <th>Children</th>\n",
       "      <th>Crime</th>\n",
       "      <th>Comedy</th>\n",
       "      <th>IMAX</th>\n",
       "      <th>Film-Noir</th>\n",
       "      <th>Fantasy</th>\n",
       "      <th>War</th>\n",
       "      <th>Adventure</th>\n",
       "      <th>Thriller</th>\n",
       "      <th>Romance</th>\n",
       "      <th>(no genres listed)</th>\n",
       "      <th>Sci-Fi</th>\n",
       "      <th>Musical</th>\n",
       "      <th>Documentary</th>\n",
       "      <th>Horror</th>\n",
       "      <th>Animation</th>\n",
       "      <th>Mystery</th>\n",
       "      <th>Drama</th>\n",
       "      <th>Western</th>\n",
       "      <th>Action</th>\n",
       "    </tr>\n",
       "  </thead>\n",
       "  <tbody>\n",
       "    <tr>\n",
       "      <th>0</th>\n",
       "      <td>1</td>\n",
       "      <td>0</td>\n",
       "      <td>1</td>\n",
       "      <td>0</td>\n",
       "      <td>0</td>\n",
       "      <td>1</td>\n",
       "      <td>0</td>\n",
       "      <td>1</td>\n",
       "      <td>0</td>\n",
       "      <td>0</td>\n",
       "      <td>0</td>\n",
       "      <td>0</td>\n",
       "      <td>0</td>\n",
       "      <td>0</td>\n",
       "      <td>0</td>\n",
       "      <td>1</td>\n",
       "      <td>0</td>\n",
       "      <td>0</td>\n",
       "      <td>0</td>\n",
       "      <td>0</td>\n",
       "    </tr>\n",
       "    <tr>\n",
       "      <th>1</th>\n",
       "      <td>1</td>\n",
       "      <td>0</td>\n",
       "      <td>0</td>\n",
       "      <td>0</td>\n",
       "      <td>0</td>\n",
       "      <td>1</td>\n",
       "      <td>0</td>\n",
       "      <td>1</td>\n",
       "      <td>0</td>\n",
       "      <td>0</td>\n",
       "      <td>0</td>\n",
       "      <td>0</td>\n",
       "      <td>0</td>\n",
       "      <td>0</td>\n",
       "      <td>0</td>\n",
       "      <td>0</td>\n",
       "      <td>0</td>\n",
       "      <td>0</td>\n",
       "      <td>0</td>\n",
       "      <td>0</td>\n",
       "    </tr>\n",
       "    <tr>\n",
       "      <th>2</th>\n",
       "      <td>0</td>\n",
       "      <td>0</td>\n",
       "      <td>1</td>\n",
       "      <td>0</td>\n",
       "      <td>0</td>\n",
       "      <td>0</td>\n",
       "      <td>0</td>\n",
       "      <td>0</td>\n",
       "      <td>0</td>\n",
       "      <td>1</td>\n",
       "      <td>0</td>\n",
       "      <td>0</td>\n",
       "      <td>0</td>\n",
       "      <td>0</td>\n",
       "      <td>0</td>\n",
       "      <td>0</td>\n",
       "      <td>0</td>\n",
       "      <td>0</td>\n",
       "      <td>0</td>\n",
       "      <td>0</td>\n",
       "    </tr>\n",
       "    <tr>\n",
       "      <th>3</th>\n",
       "      <td>0</td>\n",
       "      <td>0</td>\n",
       "      <td>1</td>\n",
       "      <td>0</td>\n",
       "      <td>0</td>\n",
       "      <td>0</td>\n",
       "      <td>0</td>\n",
       "      <td>0</td>\n",
       "      <td>0</td>\n",
       "      <td>1</td>\n",
       "      <td>0</td>\n",
       "      <td>0</td>\n",
       "      <td>0</td>\n",
       "      <td>0</td>\n",
       "      <td>0</td>\n",
       "      <td>0</td>\n",
       "      <td>0</td>\n",
       "      <td>1</td>\n",
       "      <td>0</td>\n",
       "      <td>0</td>\n",
       "    </tr>\n",
       "    <tr>\n",
       "      <th>4</th>\n",
       "      <td>0</td>\n",
       "      <td>0</td>\n",
       "      <td>1</td>\n",
       "      <td>0</td>\n",
       "      <td>0</td>\n",
       "      <td>0</td>\n",
       "      <td>0</td>\n",
       "      <td>0</td>\n",
       "      <td>0</td>\n",
       "      <td>0</td>\n",
       "      <td>0</td>\n",
       "      <td>0</td>\n",
       "      <td>0</td>\n",
       "      <td>0</td>\n",
       "      <td>0</td>\n",
       "      <td>0</td>\n",
       "      <td>0</td>\n",
       "      <td>0</td>\n",
       "      <td>0</td>\n",
       "      <td>0</td>\n",
       "    </tr>\n",
       "    <tr>\n",
       "      <th>...</th>\n",
       "      <td>...</td>\n",
       "      <td>...</td>\n",
       "      <td>...</td>\n",
       "      <td>...</td>\n",
       "      <td>...</td>\n",
       "      <td>...</td>\n",
       "      <td>...</td>\n",
       "      <td>...</td>\n",
       "      <td>...</td>\n",
       "      <td>...</td>\n",
       "      <td>...</td>\n",
       "      <td>...</td>\n",
       "      <td>...</td>\n",
       "      <td>...</td>\n",
       "      <td>...</td>\n",
       "      <td>...</td>\n",
       "      <td>...</td>\n",
       "      <td>...</td>\n",
       "      <td>...</td>\n",
       "      <td>...</td>\n",
       "    </tr>\n",
       "    <tr>\n",
       "      <th>27273</th>\n",
       "      <td>0</td>\n",
       "      <td>0</td>\n",
       "      <td>1</td>\n",
       "      <td>0</td>\n",
       "      <td>0</td>\n",
       "      <td>0</td>\n",
       "      <td>0</td>\n",
       "      <td>0</td>\n",
       "      <td>0</td>\n",
       "      <td>0</td>\n",
       "      <td>0</td>\n",
       "      <td>0</td>\n",
       "      <td>0</td>\n",
       "      <td>0</td>\n",
       "      <td>0</td>\n",
       "      <td>0</td>\n",
       "      <td>0</td>\n",
       "      <td>0</td>\n",
       "      <td>0</td>\n",
       "      <td>0</td>\n",
       "    </tr>\n",
       "    <tr>\n",
       "      <th>27274</th>\n",
       "      <td>0</td>\n",
       "      <td>0</td>\n",
       "      <td>1</td>\n",
       "      <td>0</td>\n",
       "      <td>0</td>\n",
       "      <td>0</td>\n",
       "      <td>0</td>\n",
       "      <td>0</td>\n",
       "      <td>0</td>\n",
       "      <td>0</td>\n",
       "      <td>0</td>\n",
       "      <td>0</td>\n",
       "      <td>0</td>\n",
       "      <td>0</td>\n",
       "      <td>0</td>\n",
       "      <td>0</td>\n",
       "      <td>0</td>\n",
       "      <td>0</td>\n",
       "      <td>0</td>\n",
       "      <td>0</td>\n",
       "    </tr>\n",
       "    <tr>\n",
       "      <th>27275</th>\n",
       "      <td>0</td>\n",
       "      <td>0</td>\n",
       "      <td>0</td>\n",
       "      <td>0</td>\n",
       "      <td>0</td>\n",
       "      <td>0</td>\n",
       "      <td>0</td>\n",
       "      <td>1</td>\n",
       "      <td>0</td>\n",
       "      <td>0</td>\n",
       "      <td>0</td>\n",
       "      <td>0</td>\n",
       "      <td>0</td>\n",
       "      <td>0</td>\n",
       "      <td>0</td>\n",
       "      <td>0</td>\n",
       "      <td>0</td>\n",
       "      <td>0</td>\n",
       "      <td>0</td>\n",
       "      <td>0</td>\n",
       "    </tr>\n",
       "    <tr>\n",
       "      <th>27276</th>\n",
       "      <td>0</td>\n",
       "      <td>0</td>\n",
       "      <td>0</td>\n",
       "      <td>0</td>\n",
       "      <td>0</td>\n",
       "      <td>0</td>\n",
       "      <td>0</td>\n",
       "      <td>0</td>\n",
       "      <td>0</td>\n",
       "      <td>0</td>\n",
       "      <td>1</td>\n",
       "      <td>0</td>\n",
       "      <td>0</td>\n",
       "      <td>0</td>\n",
       "      <td>0</td>\n",
       "      <td>0</td>\n",
       "      <td>0</td>\n",
       "      <td>0</td>\n",
       "      <td>0</td>\n",
       "      <td>0</td>\n",
       "    </tr>\n",
       "    <tr>\n",
       "      <th>27277</th>\n",
       "      <td>0</td>\n",
       "      <td>0</td>\n",
       "      <td>0</td>\n",
       "      <td>0</td>\n",
       "      <td>0</td>\n",
       "      <td>1</td>\n",
       "      <td>0</td>\n",
       "      <td>1</td>\n",
       "      <td>0</td>\n",
       "      <td>0</td>\n",
       "      <td>0</td>\n",
       "      <td>0</td>\n",
       "      <td>0</td>\n",
       "      <td>0</td>\n",
       "      <td>1</td>\n",
       "      <td>0</td>\n",
       "      <td>0</td>\n",
       "      <td>0</td>\n",
       "      <td>0</td>\n",
       "      <td>0</td>\n",
       "    </tr>\n",
       "  </tbody>\n",
       "</table>\n",
       "<p>27278 rows × 20 columns</p>\n",
       "</div>"
      ],
      "text/plain": [
       "       Children  Crime  Comedy  IMAX  Film-Noir  Fantasy  War  Adventure  \\\n",
       "0             1      0       1     0          0        1    0          1   \n",
       "1             1      0       0     0          0        1    0          1   \n",
       "2             0      0       1     0          0        0    0          0   \n",
       "3             0      0       1     0          0        0    0          0   \n",
       "4             0      0       1     0          0        0    0          0   \n",
       "...         ...    ...     ...   ...        ...      ...  ...        ...   \n",
       "27273         0      0       1     0          0        0    0          0   \n",
       "27274         0      0       1     0          0        0    0          0   \n",
       "27275         0      0       0     0          0        0    0          1   \n",
       "27276         0      0       0     0          0        0    0          0   \n",
       "27277         0      0       0     0          0        1    0          1   \n",
       "\n",
       "       Thriller  Romance  (no genres listed)  Sci-Fi  Musical  Documentary  \\\n",
       "0             0        0                   0       0        0            0   \n",
       "1             0        0                   0       0        0            0   \n",
       "2             0        1                   0       0        0            0   \n",
       "3             0        1                   0       0        0            0   \n",
       "4             0        0                   0       0        0            0   \n",
       "...         ...      ...                 ...     ...      ...          ...   \n",
       "27273         0        0                   0       0        0            0   \n",
       "27274         0        0                   0       0        0            0   \n",
       "27275         0        0                   0       0        0            0   \n",
       "27276         0        0                   1       0        0            0   \n",
       "27277         0        0                   0       0        0            0   \n",
       "\n",
       "       Horror  Animation  Mystery  Drama  Western  Action  \n",
       "0           0          1        0      0        0       0  \n",
       "1           0          0        0      0        0       0  \n",
       "2           0          0        0      0        0       0  \n",
       "3           0          0        0      1        0       0  \n",
       "4           0          0        0      0        0       0  \n",
       "...       ...        ...      ...    ...      ...     ...  \n",
       "27273       0          0        0      0        0       0  \n",
       "27274       0          0        0      0        0       0  \n",
       "27275       0          0        0      0        0       0  \n",
       "27276       0          0        0      0        0       0  \n",
       "27277       1          0        0      0        0       0  \n",
       "\n",
       "[27278 rows x 20 columns]"
      ]
     },
     "execution_count": 80,
     "metadata": {},
     "output_type": "execute_result"
    }
   ],
   "source": [
    "#from sklearn.metrics.pairwise import cosine_similarity\n",
    "#cosine_sim=cosine_similarity(movie_genres,movie_genres)\n",
    "#print(cosine_sim.shape)\n",
    "movie_genres"
   ]
  },
  {
   "cell_type": "code",
   "execution_count": 72,
   "id": "98498c26-bbd4-476c-a7d7-74d080d353ee",
   "metadata": {},
   "outputs": [],
   "source": [
    "#cosine_sim[0]"
   ]
  },
  {
   "cell_type": "code",
   "execution_count": 74,
   "id": "0ff5eb4f-e3b0-43a5-95e4-4065c12de325",
   "metadata": {},
   "outputs": [
    {
     "name": "stderr",
     "output_type": "stream",
     "text": [
      "C:\\Users\\jinag\\AppData\\Roaming\\Python\\Python312\\site-packages\\fuzzywuzzy\\fuzz.py:11: UserWarning: Using slow pure-python SequenceMatcher. Install python-Levenshtein to remove this warning\n",
      "  warnings.warn('Using slow pure-python SequenceMatcher. Install python-Levenshtein to remove this warning')\n"
     ]
    }
   ],
   "source": [
    "#creating a movie finder function\n",
    "from fuzzywuzzy import process\n",
    "def movie_finder(title):\n",
    "    all_title=df1movie['title'].tolist()\n",
    "    closest_match=process.extractOne(title,all_title)\n",
    "    return closest_match[0]"
   ]
  },
  {
   "cell_type": "code",
   "execution_count": 75,
   "id": "336aa2cf-f6da-486e-9262-1073c2360e72",
   "metadata": {},
   "outputs": [
    {
     "data": {
      "text/plain": [
       "'Jumanji (1995)'"
      ]
     },
     "execution_count": 75,
     "metadata": {},
     "output_type": "execute_result"
    }
   ],
   "source": [
    "title=movie_finder('juminji')\n",
    "title"
   ]
  },
  {
   "cell_type": "code",
   "execution_count": 76,
   "id": "25cc5965-306b-4fbe-a291-4a5b7cb2e2d1",
   "metadata": {},
   "outputs": [
    {
     "name": "stdout",
     "output_type": "stream",
     "text": [
      "1\n"
     ]
    }
   ],
   "source": [
    "#to get the relevant recommendations\n",
    "movie_idx=dict(zip(df1movie['title'],list(df1movie.index)))\n",
    "idx=movie_idx[title]\n",
    "print(idx)"
   ]
  },
  {
   "cell_type": "code",
   "execution_count": 82,
   "id": "2cfb487d-c4f9-4c9f-90bb-f4119419980f",
   "metadata": {},
   "outputs": [],
   "source": [
    "#n=10\n",
    "#sin_score=list(enumerate(cosine_sim[idx]))\n",
    "#sin_score=sorted(sin_score,key=lambda x:x[1],reverse=True)\n",
    "#sin_score=sin_score[1:(n+1)]\n",
    "#sin_score"
   ]
  },
  {
   "cell_type": "code",
   "execution_count": 87,
   "id": "13ccecd7-9206-44f3-bdcd-838d7cb13742",
   "metadata": {},
   "outputs": [
    {
     "data": {
      "text/plain": [
       "(26744, 20)"
      ]
     },
     "execution_count": 87,
     "metadata": {},
     "output_type": "execute_result"
    }
   ],
   "source": [
    "#using SVD(single valued decomposition)\n",
    "from sklearn.decomposition import TruncatedSVD\n",
    "svd=TruncatedSVD(n_components=20,n_iter=10)\n",
    "q=svd.fit_transform(x.T)\n",
    "q.shape"
   ]
  },
  {
   "cell_type": "code",
   "execution_count": 88,
   "id": "9a1d042c-bcdc-427f-a5e4-2ca60098224d",
   "metadata": {},
   "outputs": [
    {
     "data": {
      "text/plain": [
       "(138493, 26744)"
      ]
     },
     "execution_count": 88,
     "metadata": {},
     "output_type": "execute_result"
    }
   ],
   "source": [
    "x.shape"
   ]
  },
  {
   "cell_type": "code",
   "execution_count": 90,
   "id": "91512181-2367-4400-8f0c-c25337625b04",
   "metadata": {},
   "outputs": [
    {
     "name": "stdout",
     "output_type": "stream",
     "text": [
      "Toy Story (1995)\n",
      "Willy Wonka & the Chocolate Factory (1971)\n",
      "Independence Day (a.k.a. ID4) (1996)\n",
      "Mission: Impossible (1996)\n",
      "James and the Giant Peach (1996)\n",
      "Toy Story 2 (1999)\n",
      "Twister (1996)\n",
      "Star Wars: Episode IV - A New Hope (1977)\n",
      "Lion King, The (1994)\n",
      "Rock, The (1996)\n"
     ]
    }
   ],
   "source": [
    "movie_id=1\n",
    "similar_movies=find_similar_movies(movie_id,q.T,movie_map,movie_inv,metric='cosine',k=10)\n",
    "movie_title1=movie_titles[movie_id]\n",
    "print(movie_title1)\n",
    "for i in similar_movies:\n",
    "    print(movie_titles[i])"
   ]
  },
  {
   "cell_type": "code",
   "execution_count": null,
   "id": "27139d92-de3f-4650-a7fc-8fc35748817e",
   "metadata": {},
   "outputs": [],
   "source": []
  }
 ],
 "metadata": {
  "kernelspec": {
   "display_name": "Python 3 (ipykernel)",
   "language": "python",
   "name": "python3"
  },
  "language_info": {
   "codemirror_mode": {
    "name": "ipython",
    "version": 3
   },
   "file_extension": ".py",
   "mimetype": "text/x-python",
   "name": "python",
   "nbconvert_exporter": "python",
   "pygments_lexer": "ipython3",
   "version": "3.12.7"
  }
 },
 "nbformat": 4,
 "nbformat_minor": 5
}
